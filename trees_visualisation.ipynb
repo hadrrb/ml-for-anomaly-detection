{
 "cells": [
  {
   "cell_type": "code",
   "execution_count": 1,
   "metadata": {},
   "outputs": [],
   "source": [
    "import pandas as pd\n",
    "import numpy as np\n",
    "from sklearn import preprocessing\n",
    "from sklearn.tree import DecisionTreeClassifier\n",
    "from sklearn.ensemble import RandomForestClassifier\n",
    "from sklearn.neural_network import MLPClassifier\n",
    "\n",
    "labels = [\"NoEvents\", \"Attack\", \"Natural\"]\n",
    "\n",
    "X = pd.read_csv(\"Data/data%d.csv\"%1) #read file\n",
    "\n",
    "X = X.replace(np.inf, np.finfo(np.float32).max) #replacing 'inf' with its equivalent in float32 datatype\n",
    "\n",
    "#preparing the label converter\n",
    "le = preprocessing.LabelEncoder()\n",
    "le.fit(labels)\n",
    "\n",
    "#assigning the training data and the labels into variables\n",
    "y = le.transform(X['marker'])\n",
    "X = X.drop(columns=['marker'])\n",
    "\n",
    "features = list(X.columns)\n",
    "\n",
    "clf = DecisionTreeClassifier()\n",
    "\n",
    "X=X.values\n",
    "\n",
    "clf.fit(X,y)\n",
    "\n",
    "X_test = []\n",
    "for i in range(2,16):\n",
    "    X_test.append(pd.read_csv(\"Data/data%d.csv\"%i))\n",
    "\n",
    "X_test = pd.concat(X_test)\n",
    "X_test = X_test.replace(np.inf, np.finfo(np.float32).max) #replacing 'inf' with its equivalent in float32 datatype\n",
    "\n",
    "#assigning the training data and the labels into variables\n",
    "y_test = le.transform(X_test['marker'])\n",
    "X_test = X_test.drop(columns=['marker'])\n",
    "X_test = X_test.values\n",
    "\n",
    "faulty = (y_test != clf.predict(X_test))\n",
    "X_test = X_test[faulty]\n",
    "y_test = y_test[faulty]"
   ]
  },
  {
   "cell_type": "code",
   "execution_count": 3,
   "metadata": {},
   "outputs": [],
   "source": [
    "from sklearn.tree import export_graphviz\n",
    "\n",
    "export_graphviz(clf, out_file=\"out.dot\", feature_names=features, class_names=labels)"
   ]
  },
  {
   "cell_type": "code",
   "execution_count": 2,
   "metadata": {},
   "outputs": [
    {
     "output_type": "stream",
     "name": "stdout",
     "text": "True label = Natural\nPredicted label = Attack\n"
    }
   ],
   "source": [
    "idx = 0 #index of sample\n",
    "\n",
    "from dtreeviz.trees import *\n",
    "\n",
    "print(\"True label = \" + labels[y_test[idx]])\n",
    "print(\"Predicted label = \" + labels[clf.predict([X_test[idx]])[0]])\n",
    "viz = dtreeviz(clf, X, y, target_name=\"measurement\", feature_names= features, class_names=labels, X=X_test[idx], show_just_path=True)\n",
    "\n",
    "viz.save(\"out.svg\")"
   ]
  },
  {
   "cell_type": "code",
   "execution_count": null,
   "metadata": {},
   "outputs": [],
   "source": []
  }
 ],
 "metadata": {
  "language_info": {
   "codemirror_mode": {
    "name": "ipython",
    "version": 3
   },
   "file_extension": ".py",
   "mimetype": "text/x-python",
   "name": "python",
   "nbconvert_exporter": "python",
   "pygments_lexer": "ipython3",
   "version": "3.7.6-final"
  },
  "orig_nbformat": 2,
  "kernelspec": {
   "name": "python3",
   "display_name": "Python 3"
  }
 },
 "nbformat": 4,
 "nbformat_minor": 2
}