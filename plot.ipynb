{
 "cells": [
  {
   "cell_type": "code",
   "execution_count": 1,
   "metadata": {},
   "outputs": [],
   "source": [
    "import pickle\n",
    "from matplotlib.backends.backend_pdf import PdfPages\n",
    "from matplotlib import pyplot as plt\n",
    "openfile = [\"output.pickle\", \"output_binary.pickle\", \"output_multiclass.pickle\"]"
   ]
  },
  {
   "cell_type": "code",
   "execution_count": 2,
   "metadata": {},
   "outputs": [],
   "source": [
    "three = pickle.load(open(openfile[0], \"rb\"))\n",
    "binary = pickle.load(open(openfile[1], \"rb\"))\n",
    "multi = pickle.load(open(openfile[2], \"rb\")) \n"
   ]
  },
  {
   "cell_type": "code",
   "execution_count": 58,
   "metadata": {},
   "outputs": [
    {
     "output_type": "display_data",
     "data": {
      "text/plain": "<Figure size 432x288 with 0 Axes>"
     },
     "metadata": {}
    }
   ],
   "source": [
    "methods = [\"RandomForest\", \"SVM\", \"MLP\", \"NaiveBayes\"]\n",
    "\n",
    "with PdfPages(\"accuracy.pdf\") as pdf:\n",
    "    x = range(1,16)\n",
    "    k = [\"Dataset %d\"%i for i in x]\n",
    "\n",
    "    plt.figure()\n",
    "    plt.plot(x, binary[0][0], '-go', label = methods[0])\n",
    "    plt.plot(x, binary[0][1], '-co', label = methods[1])\n",
    "    plt.plot(x, binary[0][3], '-mo', label = methods[3])\n",
    "    plt.plot(x, binary[0][2], '-ro', label = methods[2])\n",
    "    plt.xticks(x, k, rotation=45)\n",
    "    plt.xlabel(\"Datasets\")\n",
    "    plt.ylabel(\"Accuracy\")\n",
    "    plt.legend(loc='lower center', bbox_to_anchor=(0.45, -0.45), ncol=4, frameon = False)\n",
    "    plt.ylim(0, 1)\n",
    "    pdf.savefig(bbox_inches='tight')\n",
    "    plt.close()\n",
    "    plt.clf()\n",
    "    \n",
    "    plt.figure()\n",
    "    plt.plot(x, three[0][0], '-go', label = methods[0])\n",
    "    plt.plot(x, three[0][1], '-co', label = methods[1])\n",
    "    plt.plot(x, three[0][3], '-mo', label = methods[3])\n",
    "    plt.plot(x, three[0][2], '-ro', label = methods[2])\n",
    "    plt.xticks(x, k, rotation=45)\n",
    "    plt.xlabel(\"Datasets\")\n",
    "    plt.ylabel(\"Accuracy\")\n",
    "    plt.legend(loc='lower center', bbox_to_anchor=(0.45, -0.45), ncol=4, frameon = False)\n",
    "    plt.ylim(0, 1)\n",
    "    pdf.savefig(bbox_inches='tight')\n",
    "    plt.close()\n",
    "    plt.clf()\n",
    "\n",
    "\n",
    "    plt.figure()\n",
    "    plt.plot(x, multi[0][0], '-go', label = methods[0])\n",
    "    plt.plot(x, multi[0][1], '-co', label = methods[1])\n",
    "    plt.plot(x, multi[0][3], '-mo', label = methods[3])\n",
    "    plt.plot(x, multi[0][2], '-ro', label = methods[2])\n",
    "    plt.xticks(x, k, rotation=45)\n",
    "    plt.xlabel(\"Datasets\")\n",
    "    plt.ylabel(\"Accuracy\")\n",
    "    plt.legend(loc='lower center', bbox_to_anchor=(0.45, -0.45), ncol=4, frameon = False)\n",
    "    plt.ylim(0, 1)\n",
    "    pdf.savefig(bbox_inches='tight')\n",
    "    plt.close()\n",
    "    plt.clf()"
   ]
  },
  {
   "cell_type": "code",
   "execution_count": 7,
   "metadata": {},
   "outputs": [
    {
     "output_type": "display_data",
     "data": {
      "text/plain": "<Figure size 432x288 with 0 Axes>"
     },
     "metadata": {}
    }
   ],
   "source": [
    "methods = [\"RandomForest\", \"NaiveBayes\", \"SVM\", \"MLP\"]\n",
    "x = range(len(methods))\n",
    "\n",
    "with PdfPages(\"fmeasure.pdf\") as pdf:\n",
    "    plt.figure()\n",
    "    plt.plot(x, [multi[1][k] for k in [0,3,1,2]], '-bo' , label = \"Multiclass\")\n",
    "    plt.plot(x, [three[1][k] for k in [0,3,1,2]], '-ro' , label = \"Three-class\")\n",
    "    plt.plot(x, [binary[1][k] for k in [0,3,1,2]], '-go' , label = \"Binary\")\n",
    "    plt.xlabel(\"Learners\")\n",
    "    plt.ylabel(\"F-measure micro\")\n",
    "    plt.xticks(x, methods)\n",
    "    plt.ylim(0, 1)\n",
    "    plt.legend(loc='lower center', bbox_to_anchor=(0.45, -0.3), ncol=4, frameon = False)\n",
    "    pdf.savefig(bbox_inches='tight')\n",
    "    plt.close()\n",
    "    plt.clf()\n",
    "\n",
    "    plt.figure()\n",
    "    plt.plot(x, [multi[2][k] for k in [0,3,1,2]], '-bo' , label = \"Multiclass\")\n",
    "    plt.plot(x, [three[2][k] for k in [0,3,1,2]], '-ro' , label = \"Three-class\")\n",
    "    plt.plot(x, [binary[2][k] for k in [0,3,1,2]], '-go' , label = \"Binary\")\n",
    "    plt.xlabel(\"Learners\")\n",
    "    plt.ylabel(\"F-measure macro\")\n",
    "    plt.xticks(x, methods)\n",
    "    plt.ylim(0, 1)\n",
    "    plt.legend(loc='lower center', bbox_to_anchor=(0.45, -0.3), ncol=4, frameon = False)\n",
    "    pdf.savefig(bbox_inches='tight')\n",
    "    plt.close()\n",
    "    plt.clf()\n",
    "\n",
    "    plt.figure()\n",
    "    plt.plot(x, [multi[3][k] for k in [0,3,1,2]], '-bo' , label = \"Multiclass\")\n",
    "    plt.plot(x, [three[3][k] for k in [0,3,1,2]], '-ro' , label = \"Three-class\")\n",
    "    plt.plot(x, [binary[3][k] for k in [0,3,1,2]], '-go' , label = \"Binary\")\n",
    "    plt.xlabel(\"Learners\")\n",
    "    plt.ylabel(\"F-measure weighted\")\n",
    "    plt.xticks(x, methods)\n",
    "    plt.ylim(0, 1)\n",
    "    plt.legend(loc='lower center', bbox_to_anchor=(0.45, -0.3), ncol=4, frameon = False)\n",
    "    pdf.savefig(bbox_inches='tight')\n",
    "    plt.close()\n",
    "    plt.clf()\n",
    "\n"
   ]
  },
  {
   "cell_type": "code",
   "execution_count": 8,
   "metadata": {},
   "outputs": [
    {
     "output_type": "display_data",
     "data": {
      "text/plain": "<Figure size 432x288 with 0 Axes>"
     },
     "metadata": {}
    }
   ],
   "source": [
    "with PdfPages(\"precision.pdf\") as pdf:\n",
    "    plt.figure()\n",
    "    plt.plot(x, [multi[4][k] for k in [0,3,1,2]], '-bo' , label = \"Multiclass\")\n",
    "    plt.plot(x, [three[4][k] for k in [0,3,1,2]], '-ro' , label = \"Three-class\")\n",
    "    plt.plot(x, [binary[4][k] for k in [0,3,1,2]], '-go' , label = \"Binary\")\n",
    "    plt.xlabel(\"Learners\")\n",
    "    plt.ylabel(\"Precision micro\")\n",
    "    plt.xticks(x, methods)\n",
    "    plt.ylim(0, 1)\n",
    "    plt.legend(loc='lower center', bbox_to_anchor=(0.45, -0.3), ncol=4, frameon = False)\n",
    "    pdf.savefig(bbox_inches='tight')\n",
    "    plt.close()\n",
    "    plt.clf()\n",
    "\n",
    "    plt.figure()\n",
    "    plt.plot(x, [multi[5][k] for k in [0,3,1,2]], '-bo' , label = \"Multiclass\")\n",
    "    plt.plot(x, [three[5][k] for k in [0,3,1,2]], '-ro' , label = \"Three-class\")\n",
    "    plt.plot(x, [binary[5][k] for k in [0,3,1,2]], '-go' , label = \"Binary\")\n",
    "    plt.xlabel(\"Learners\")\n",
    "    plt.ylabel(\"Precision macro\")\n",
    "    plt.xticks(x, methods)\n",
    "    plt.ylim(0, 1)\n",
    "    plt.legend(loc='lower center', bbox_to_anchor=(0.45, -0.3), ncol=4, frameon = False)\n",
    "    pdf.savefig(bbox_inches='tight')\n",
    "    plt.close()\n",
    "    plt.clf()\n",
    "\n",
    "    plt.figure()\n",
    "    plt.plot(x, [multi[6][k] for k in [0,3,1,2]], '-bo' , label = \"Multiclass\")\n",
    "    plt.plot(x, [three[6][k] for k in [0,3,1,2]], '-ro' , label = \"Three-class\")\n",
    "    plt.plot(x, [binary[6][k] for k in [0,3,1,2]], '-go' , label = \"Binary\")\n",
    "    plt.xlabel(\"Learners\")\n",
    "    plt.ylabel(\"Precision weighted\")\n",
    "    plt.xticks(x, methods)\n",
    "    plt.ylim(0, 1)\n",
    "    plt.legend(loc='lower center', bbox_to_anchor=(0.45, -0.3), ncol=4, frameon = False)\n",
    "    pdf.savefig(bbox_inches='tight')\n",
    "    plt.close()\n",
    "    plt.clf()"
   ]
  },
  {
   "cell_type": "code",
   "execution_count": 9,
   "metadata": {},
   "outputs": [
    {
     "output_type": "display_data",
     "data": {
      "text/plain": "<Figure size 432x288 with 0 Axes>"
     },
     "metadata": {}
    }
   ],
   "source": [
    "with PdfPages(\"recall.pdf\") as pdf:\n",
    "    plt.figure()\n",
    "    plt.plot(x, [multi[7][k] for k in [0,3,1,2]], '-bo' , label = \"Multiclass\")\n",
    "    plt.plot(x, [three[7][k] for k in [0,3,1,2]], '-ro' , label = \"Three-class\")\n",
    "    plt.plot(x, [binary[7][k] for k in [0,3,1,2]], '-go' , label = \"Binary\")\n",
    "    plt.xlabel(\"Learners\")\n",
    "    plt.ylabel(\"Recall micro\")\n",
    "    plt.xticks(x, methods)\n",
    "    plt.ylim(0, 1)\n",
    "    plt.legend(loc='lower center', bbox_to_anchor=(0.45, -0.3), ncol=4, frameon = False)\n",
    "    pdf.savefig(bbox_inches='tight')\n",
    "    plt.close()\n",
    "    plt.clf()\n",
    "\n",
    "    plt.figure()\n",
    "    plt.plot(x, [multi[8][k] for k in [0,3,1,2]], '-bo' , label = \"Multiclass\")\n",
    "    plt.plot(x, [three[8][k] for k in [0,3,1,2]], '-ro' , label = \"Three-class\")\n",
    "    plt.plot(x, [binary[8][k] for k in [0,3,1,2]], '-go' , label = \"Binary\")\n",
    "    plt.xlabel(\"Learners\")\n",
    "    plt.ylabel(\"Recall macro\")\n",
    "    plt.xticks(x, methods)\n",
    "    plt.ylim(0, 1)\n",
    "    plt.legend(loc='lower center', bbox_to_anchor=(0.45, -0.3), ncol=4, frameon = False)\n",
    "    pdf.savefig(bbox_inches='tight')\n",
    "    plt.close()\n",
    "    plt.clf()\n",
    "\n",
    "    plt.figure()\n",
    "    plt.plot(x, [multi[9][k] for k in [0,3,1,2]], '-bo' , label = \"Multiclass\")\n",
    "    plt.plot(x, [three[9][k] for k in [0,3,1,2]], '-ro' , label = \"Three-class\")\n",
    "    plt.plot(x, [binary[9][k] for k in [0,3,1,2]], '-go' , label = \"Binary\")\n",
    "    plt.xlabel(\"Learners\")\n",
    "    plt.ylabel(\"Recall weighted\")\n",
    "    plt.xticks(x, methods)\n",
    "    plt.ylim(0, 1)\n",
    "    plt.legend(loc='lower center', bbox_to_anchor=(0.45, -0.3), ncol=4, frameon = False)\n",
    "    pdf.savefig(bbox_inches='tight')\n",
    "    plt.close()\n",
    "    plt.clf()"
   ]
  },
  {
   "cell_type": "code",
   "execution_count": null,
   "metadata": {},
   "outputs": [],
   "source": []
  }
 ],
 "metadata": {
  "language_info": {
   "codemirror_mode": {
    "name": "ipython",
    "version": 3
   },
   "file_extension": ".py",
   "mimetype": "text/x-python",
   "name": "python",
   "nbconvert_exporter": "python",
   "pygments_lexer": "ipython3",
   "version": "3.7.6-final"
  },
  "orig_nbformat": 2,
  "kernelspec": {
   "name": "python3",
   "display_name": "Python 3"
  }
 },
 "nbformat": 4,
 "nbformat_minor": 2
}