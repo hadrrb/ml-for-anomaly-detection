{
 "cells": [
  {
   "cell_type": "code",
   "execution_count": 2,
   "metadata": {},
   "outputs": [],
   "source": [
    "import pandas as pd\n",
    "import numpy as np\n",
    "from sklearn import preprocessing\n",
    "from sklearn.tree import DecisionTreeClassifier\n",
    "from sklearn.ensemble import RandomForestClassifier\n",
    "import pickle\n",
    "from lime.lime_tabular import LimeTabularExplainer\n",
    "\n",
    "labels = [\"NoEvents\", \"Attack\", \"Natural\"]\n",
    "\n",
    "X = pd.read_csv(\"Data/data%d.csv\"%1) #read file\n",
    "\n",
    "X = X.replace(np.inf, np.finfo(np.float32).max) #replacing 'inf' with its equivalent in float32 datatype\n",
    "\n",
    "#preparing the label converter\n",
    "le = preprocessing.LabelEncoder()\n",
    "le.fit(labels)\n",
    "\n",
    "#assigning the training data and the labels into variables\n",
    "y = le.transform(X['marker'])\n",
    "X = X.drop(columns='marker')\n",
    "\n",
    "features = list(X.columns)\n",
    "\n",
    "clf = DecisionTreeClassifier()\n",
    "X=X.values\n",
    "\n",
    "clf.fit(X,y)\n",
    "\n",
    "explainer = LimeTabularExplainer(X, training_labels = y, feature_names = features, class_names = labels)\n",
    "\n",
    "\n",
    "Xall = []\n",
    "for i in range(2,16):\n",
    "    Xall.append(pd.read_csv(\"Data/data%d.csv\"%i))\n",
    "\n",
    "Xall = pd.concat(Xall)\n",
    "Xall = Xall.replace(np.inf, np.finfo(np.float32).max) #replacing 'inf' with its equivalent in float32 datatype\n",
    "\n",
    "#assigning the training data and the labels into variables\n",
    "yall = le.transform(Xall['marker'])\n",
    "Xall = Xall.drop(columns='marker').values\n",
    "\n",
    "boole = (yall != clf.predict(Xall))\n",
    "\n",
    "faulty = boole & (yall == 0)\n",
    "X_test = Xall[faulty]\n",
    "y_test = yall[faulty]\n",
    "lst = []\n",
    "for idx in range(0, 100):\n",
    "    exp = explainer.explain_instance(X_test[idx], clf.predict_proba, num_features=128, labels=[0, 1, 2])\n",
    "    lst.append(exp.as_list(label=0))\n",
    "lst = np.array(lst)\n",
    "clst = np.concatenate(lst, axis=0)\n",
    "dtfr = pd.DataFrame(clst, columns=['feature', 'importance'])\n",
    "dtfr[\"importance\"] = pd.to_numeric(dtfr[\"importance\"])\n",
    "dtfr = dtfr.groupby(['feature']).mean()\n",
    "res = dtfr.sort_values(by=\"importance\")\n",
    "  \n"
   ]
  },
  {
   "cell_type": "code",
   "execution_count": 8,
   "metadata": {},
   "outputs": [
    {
     "output_type": "execute_result",
     "data": {
      "text/plain": "                              importance\nfeature                                 \nR2-PA5:IH > 63.30              -0.202310\nR4-PA1:VH <= -97.13            -0.089672\nR1-PM10:I <= 318.61            -0.072388\nR2:F > 60.00                   -0.063643\nR1-PA:Z <= 8.19                -0.055955\n...                                  ...\n9.79 < R1-PA:Z <= 12.43         0.043825\n390.48 < R1-PM10:I <= 465.42    0.053801\nR1-PA:Z > 12.43                 0.065033\nR2-PA4:IH <= -64.39             0.086162\nR2-PA5:IH <= -74.26             0.116969\n\n[365 rows x 1 columns]",
      "text/html": "<div>\n<style scoped>\n    .dataframe tbody tr th:only-of-type {\n        vertical-align: middle;\n    }\n\n    .dataframe tbody tr th {\n        vertical-align: top;\n    }\n\n    .dataframe thead th {\n        text-align: right;\n    }\n</style>\n<table border=\"1\" class=\"dataframe\">\n  <thead>\n    <tr style=\"text-align: right;\">\n      <th></th>\n      <th>importance</th>\n    </tr>\n    <tr>\n      <th>feature</th>\n      <th></th>\n    </tr>\n  </thead>\n  <tbody>\n    <tr>\n      <th>R2-PA5:IH &gt; 63.30</th>\n      <td>-0.202310</td>\n    </tr>\n    <tr>\n      <th>R4-PA1:VH &lt;= -97.13</th>\n      <td>-0.089672</td>\n    </tr>\n    <tr>\n      <th>R1-PM10:I &lt;= 318.61</th>\n      <td>-0.072388</td>\n    </tr>\n    <tr>\n      <th>R2:F &gt; 60.00</th>\n      <td>-0.063643</td>\n    </tr>\n    <tr>\n      <th>R1-PA:Z &lt;= 8.19</th>\n      <td>-0.055955</td>\n    </tr>\n    <tr>\n      <th>...</th>\n      <td>...</td>\n    </tr>\n    <tr>\n      <th>9.79 &lt; R1-PA:Z &lt;= 12.43</th>\n      <td>0.043825</td>\n    </tr>\n    <tr>\n      <th>390.48 &lt; R1-PM10:I &lt;= 465.42</th>\n      <td>0.053801</td>\n    </tr>\n    <tr>\n      <th>R1-PA:Z &gt; 12.43</th>\n      <td>0.065033</td>\n    </tr>\n    <tr>\n      <th>R2-PA4:IH &lt;= -64.39</th>\n      <td>0.086162</td>\n    </tr>\n    <tr>\n      <th>R2-PA5:IH &lt;= -74.26</th>\n      <td>0.116969</td>\n    </tr>\n  </tbody>\n</table>\n<p>365 rows × 1 columns</p>\n</div>"
     },
     "metadata": {},
     "execution_count": 8
    }
   ],
   "source": [
    "res "
   ]
  },
  {
   "cell_type": "code",
   "execution_count": 612,
   "metadata": {},
   "outputs": [
    {
     "output_type": "execute_result",
     "data": {
      "text/plain": "array([0])"
     },
     "metadata": {},
     "execution_count": 612
    }
   ],
   "source": [
    "clf.predict(((X_test[14]-75).reshape(1, -1)))"
   ]
  },
  {
   "cell_type": "code",
   "execution_count": 608,
   "metadata": {},
   "outputs": [
    {
     "output_type": "execute_result",
     "data": {
      "text/plain": "array([0])"
     },
     "metadata": {},
     "execution_count": 608
    }
   ],
   "source": [
    "clf.predict(((Xall.iloc[14].values).reshape(1, -1)))"
   ]
  },
  {
   "cell_type": "code",
   "execution_count": 583,
   "metadata": {},
   "outputs": [
    {
     "output_type": "execute_result",
     "data": {
      "text/plain": "2"
     },
     "metadata": {},
     "execution_count": 583
    }
   ],
   "source": [
    "yall[14]"
   ]
  },
  {
   "cell_type": "code",
   "execution_count": 192,
   "metadata": {},
   "outputs": [],
   "source": [
    "exp = explainer.explain_instance(Xall[14], clf.predict_proba, num_features=128, labels=[0, 1, 2])\n",
    "lst = exp.as_list()\n",
    "lst = np.array(lst)\n",
    "dtfr = pd.DataFrame(lst, columns=['feature', 'importance'])\n",
    "dtfr[\"importance\"] = pd.to_numeric(dtfr[\"importance\"])\n",
    "dtfr = dtfr.groupby(['feature']).mean()\n",
    "res = dtfr.sort_values(by=\"importance\")"
   ]
  },
  {
   "cell_type": "code",
   "execution_count": 193,
   "metadata": {},
   "outputs": [
    {
     "output_type": "execute_result",
     "data": {
      "text/plain": "                      importance\nfeature                         \nR1-PM8:V <= 0.00       -0.148195\nR3-PA8:VH <= 0.00      -0.146174\nR1-PA9:VH <= 0.00      -0.099529\nR4-PA8:VH <= 0.00      -0.092479\nR3-PA9:VH <= 0.00      -0.089755\n...                          ...\nR4-PM5:I <= 326.49      0.063332\nR4-PA9:VH <= 0.00       0.064508\nR1-PM10:I <= 318.61     0.064621\nR2-PM1:V > 130872.03    0.065484\nR2-PM8:V <= 0.00        0.082635\n\n[128 rows x 1 columns]",
      "text/html": "<div>\n<style scoped>\n    .dataframe tbody tr th:only-of-type {\n        vertical-align: middle;\n    }\n\n    .dataframe tbody tr th {\n        vertical-align: top;\n    }\n\n    .dataframe thead th {\n        text-align: right;\n    }\n</style>\n<table border=\"1\" class=\"dataframe\">\n  <thead>\n    <tr style=\"text-align: right;\">\n      <th></th>\n      <th>importance</th>\n    </tr>\n    <tr>\n      <th>feature</th>\n      <th></th>\n    </tr>\n  </thead>\n  <tbody>\n    <tr>\n      <th>R1-PM8:V &lt;= 0.00</th>\n      <td>-0.148195</td>\n    </tr>\n    <tr>\n      <th>R3-PA8:VH &lt;= 0.00</th>\n      <td>-0.146174</td>\n    </tr>\n    <tr>\n      <th>R1-PA9:VH &lt;= 0.00</th>\n      <td>-0.099529</td>\n    </tr>\n    <tr>\n      <th>R4-PA8:VH &lt;= 0.00</th>\n      <td>-0.092479</td>\n    </tr>\n    <tr>\n      <th>R3-PA9:VH &lt;= 0.00</th>\n      <td>-0.089755</td>\n    </tr>\n    <tr>\n      <th>...</th>\n      <td>...</td>\n    </tr>\n    <tr>\n      <th>R4-PM5:I &lt;= 326.49</th>\n      <td>0.063332</td>\n    </tr>\n    <tr>\n      <th>R4-PA9:VH &lt;= 0.00</th>\n      <td>0.064508</td>\n    </tr>\n    <tr>\n      <th>R1-PM10:I &lt;= 318.61</th>\n      <td>0.064621</td>\n    </tr>\n    <tr>\n      <th>R2-PM1:V &gt; 130872.03</th>\n      <td>0.065484</td>\n    </tr>\n    <tr>\n      <th>R2-PM8:V &lt;= 0.00</th>\n      <td>0.082635</td>\n    </tr>\n  </tbody>\n</table>\n<p>128 rows × 1 columns</p>\n</div>"
     },
     "metadata": {},
     "execution_count": 193
    }
   ],
   "source": [
    "res"
   ]
  },
  {
   "cell_type": "code",
   "execution_count": 344,
   "metadata": {},
   "outputs": [
    {
     "output_type": "execute_result",
     "data": {
      "text/plain": "10.0"
     },
     "metadata": {},
     "execution_count": 344
    }
   ],
   "source": [
    "Xall.iloc[14][\"R2-PM8:V\"] "
   ]
  },
  {
   "cell_type": "code",
   "execution_count": 607,
   "metadata": {},
   "outputs": [],
   "source": [
    "Xall.at[14, \"R2-PM8:V\"] = 1000\n",
    "Xall.at[14, \"R2-PM1:V\"] = 110000\n",
    "Xall.at[14, \"R1-PM8:V\"] = 1000\n",
    "Xall.at[14, \"R1-PM10:I\"] = 10000"
   ]
  },
  {
   "cell_type": "code",
   "execution_count": 413,
   "metadata": {},
   "outputs": [],
   "source": [
    "Xtrue = Xall.iloc[clf.predict(Xall) == yall]\n",
    "ytrue = yall[clf.predict(Xall) == yall]\n",
    "Xfalse = Xall.iloc[clf.predict(Xall) != yall]\n",
    "yfalse = yall[clf.predict(Xall) != yall]\n",
    "Xnoevents = Xfalse.iloc[clf.predict(Xfalse) == 0]\n",
    "ynoevents = yfalse[clf.predict(Xfalse) == 0]\n",
    "Xattack = Xfalse.iloc[clf.predict(Xfalse) == 1]\n",
    "yattack = yfalse[clf.predict(Xfalse) == 1]\n",
    "Xnatural = Xfalse.iloc[clf.predict(Xfalse) == 2]\n",
    "ynatural = yfalse[clf.predict(Xfalse) == 2]"
   ]
  },
  {
   "cell_type": "code",
   "execution_count": 563,
   "metadata": {},
   "outputs": [],
   "source": [
    "def distance(X1, X2):\n",
    "    return np.sqrt((((X1 - X2).apply(np.square)).sum()))\n"
   ]
  },
  {
   "cell_type": "code",
   "execution_count": 529,
   "metadata": {},
   "outputs": [
    {
     "output_type": "execute_result",
     "data": {
      "text/plain": "114.23250721467586"
     },
     "metadata": {},
     "execution_count": 529
    }
   ],
   "source": [
    "distance(Xtrue.iloc[0], Xtrue.iloc[1])"
   ]
  },
  {
   "cell_type": "code",
   "execution_count": 445,
   "metadata": {},
   "outputs": [
    {
     "output_type": "execute_result",
     "data": {
      "text/plain": "array([2, 2])"
     },
     "metadata": {},
     "execution_count": 445
    }
   ],
   "source": [
    "ytrue[[3,4]]"
   ]
  },
  {
   "cell_type": "code",
   "execution_count": 532,
   "metadata": {},
   "outputs": [],
   "source": [
    "x0 = Xtrue[ytrue == 0]\n",
    "x1 = Xtrue[ytrue == 1]\n",
    "x2 = Xtrue[ytrue == 2]"
   ]
  },
  {
   "cell_type": "code",
   "execution_count": 572,
   "metadata": {},
   "outputs": [
    {
     "output_type": "execute_result",
     "data": {
      "text/plain": "2.7767756968533383e+37"
     },
     "metadata": {},
     "execution_count": 572
    }
   ],
   "source": [
    "np.average([distance(x0.iloc[k], x0.iloc[k+1]) for k in np.random.randint(0, x0.shape[0]-1, 1000)])"
   ]
  },
  {
   "cell_type": "code",
   "execution_count": 573,
   "metadata": {},
   "outputs": [
    {
     "output_type": "execute_result",
     "data": {
      "text/plain": "6.64400544631047e+37"
     },
     "metadata": {},
     "execution_count": 573
    }
   ],
   "source": [
    "np.average([distance(x1.iloc[k], x1.iloc[k+1]) for k in np.random.randint(0, x1.shape[0]-1, 1000)])"
   ]
  },
  {
   "cell_type": "code",
   "execution_count": 574,
   "metadata": {},
   "outputs": [
    {
     "output_type": "execute_result",
     "data": {
      "text/plain": "1855.457402041155"
     },
     "metadata": {},
     "execution_count": 574
    }
   ],
   "source": [
    "np.average([distance(x2.iloc[k], x2.iloc[k+1]) for k in np.random.randint(0, x2.shape[0]-1, 1000)])"
   ]
  },
  {
   "cell_type": "code",
   "execution_count": 579,
   "metadata": {},
   "outputs": [
    {
     "output_type": "execute_result",
     "data": {
      "text/plain": "3.3025702936441036e+37"
     },
     "metadata": {},
     "execution_count": 579
    }
   ],
   "source": [
    "np.average([distance(Xnoevents.iloc[k], Xnoevents.iloc[k+1]) for k in np.random.randint(0, Xnoevents.shape[0]-1, 1000)])"
   ]
  },
  {
   "cell_type": "code",
   "execution_count": null,
   "metadata": {},
   "outputs": [],
   "source": []
  }
 ],
 "metadata": {
  "language_info": {
   "codemirror_mode": {
    "name": "ipython",
    "version": 3
   },
   "file_extension": ".py",
   "mimetype": "text/x-python",
   "name": "python",
   "nbconvert_exporter": "python",
   "pygments_lexer": "ipython3",
   "version": 3
  },
  "orig_nbformat": 2,
  "kernelspec": {
   "name": "python_defaultSpec_1594814370588",
   "display_name": "Python 3.7.6 64-bit ('base': conda)"
  }
 },
 "nbformat": 4,
 "nbformat_minor": 2
}