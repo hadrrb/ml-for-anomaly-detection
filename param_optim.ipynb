{
 "cells": [
  {
   "cell_type": "code",
   "execution_count": 7,
   "metadata": {},
   "outputs": [],
   "source": [
    "import pandas as pd\n",
    "import numpy as np\n",
    "from sklearn import preprocessing\n",
    "\n",
    "labels = [\"NoEvents\", \"Attack\", \"Natural\"]\n",
    "\n",
    "X = pd.read_csv(\"Data/data%d.csv\"%1) #read file\n",
    "\n",
    "X = X.replace(np.inf, np.finfo(np.float32).max) #replacing 'inf' with its equivalent in float32 datatype\n",
    "\n",
    "#preparing the label converter\n",
    "le = preprocessing.LabelEncoder()\n",
    "le.fit(labels)\n",
    "\n",
    "#assigning the training data and the labels into variables\n",
    "y = le.transform(X['marker'])\n",
    "X = X.drop(columns='marker')"
   ]
  },
  {
   "cell_type": "code",
   "execution_count": 19,
   "metadata": {},
   "outputs": [
    {
     "output_type": "execute_result",
     "data": {
      "text/plain": "['mean_fit_time',\n 'mean_score_time',\n 'mean_test_accuracy',\n 'mean_test_f1_macro',\n 'mean_test_f1_micro',\n 'mean_test_f1_weighted',\n 'mean_test_precision_macro',\n 'mean_test_precision_micro',\n 'mean_test_precision_weighted',\n 'mean_test_recall_macro',\n 'mean_test_recall_micro',\n 'mean_test_recall_weighted',\n 'param_bootstrap',\n 'param_criterion',\n 'param_max_features',\n 'param_n_estimators',\n 'param_oob_score',\n 'params',\n 'rank_test_accuracy',\n 'rank_test_f1_macro',\n 'rank_test_f1_micro',\n 'rank_test_f1_weighted',\n 'rank_test_precision_macro',\n 'rank_test_precision_micro',\n 'rank_test_precision_weighted',\n 'rank_test_recall_macro',\n 'rank_test_recall_micro',\n 'rank_test_recall_weighted',\n 'split0_test_accuracy',\n 'split0_test_f1_macro',\n 'split0_test_f1_micro',\n 'split0_test_f1_weighted',\n 'split0_test_precision_macro',\n 'split0_test_precision_micro',\n 'split0_test_precision_weighted',\n 'split0_test_recall_macro',\n 'split0_test_recall_micro',\n 'split0_test_recall_weighted',\n 'split1_test_accuracy',\n 'split1_test_f1_macro',\n 'split1_test_f1_micro',\n 'split1_test_f1_weighted',\n 'split1_test_precision_macro',\n 'split1_test_precision_micro',\n 'split1_test_precision_weighted',\n 'split1_test_recall_macro',\n 'split1_test_recall_micro',\n 'split1_test_recall_weighted',\n 'split2_test_accuracy',\n 'split2_test_f1_macro',\n 'split2_test_f1_micro',\n 'split2_test_f1_weighted',\n 'split2_test_precision_macro',\n 'split2_test_precision_micro',\n 'split2_test_precision_weighted',\n 'split2_test_recall_macro',\n 'split2_test_recall_micro',\n 'split2_test_recall_weighted',\n 'split3_test_accuracy',\n 'split3_test_f1_macro',\n 'split3_test_f1_micro',\n 'split3_test_f1_weighted',\n 'split3_test_precision_macro',\n 'split3_test_precision_micro',\n 'split3_test_precision_weighted',\n 'split3_test_recall_macro',\n 'split3_test_recall_micro',\n 'split3_test_recall_weighted',\n 'split4_test_accuracy',\n 'split4_test_f1_macro',\n 'split4_test_f1_micro',\n 'split4_test_f1_weighted',\n 'split4_test_precision_macro',\n 'split4_test_precision_micro',\n 'split4_test_precision_weighted',\n 'split4_test_recall_macro',\n 'split4_test_recall_micro',\n 'split4_test_recall_weighted',\n 'split5_test_accuracy',\n 'split5_test_f1_macro',\n 'split5_test_f1_micro',\n 'split5_test_f1_weighted',\n 'split5_test_precision_macro',\n 'split5_test_precision_micro',\n 'split5_test_precision_weighted',\n 'split5_test_recall_macro',\n 'split5_test_recall_micro',\n 'split5_test_recall_weighted',\n 'split6_test_accuracy',\n 'split6_test_f1_macro',\n 'split6_test_f1_micro',\n 'split6_test_f1_weighted',\n 'split6_test_precision_macro',\n 'split6_test_precision_micro',\n 'split6_test_precision_weighted',\n 'split6_test_recall_macro',\n 'split6_test_recall_micro',\n 'split6_test_recall_weighted',\n 'split7_test_accuracy',\n 'split7_test_f1_macro',\n 'split7_test_f1_micro',\n 'split7_test_f1_weighted',\n 'split7_test_precision_macro',\n 'split7_test_precision_micro',\n 'split7_test_precision_weighted',\n 'split7_test_recall_macro',\n 'split7_test_recall_micro',\n 'split7_test_recall_weighted',\n 'split8_test_accuracy',\n 'split8_test_f1_macro',\n 'split8_test_f1_micro',\n 'split8_test_f1_weighted',\n 'split8_test_precision_macro',\n 'split8_test_precision_micro',\n 'split8_test_precision_weighted',\n 'split8_test_recall_macro',\n 'split8_test_recall_micro',\n 'split8_test_recall_weighted',\n 'split9_test_accuracy',\n 'split9_test_f1_macro',\n 'split9_test_f1_micro',\n 'split9_test_f1_weighted',\n 'split9_test_precision_macro',\n 'split9_test_precision_micro',\n 'split9_test_precision_weighted',\n 'split9_test_recall_macro',\n 'split9_test_recall_micro',\n 'split9_test_recall_weighted',\n 'std_fit_time',\n 'std_score_time',\n 'std_test_accuracy',\n 'std_test_f1_macro',\n 'std_test_f1_micro',\n 'std_test_f1_weighted',\n 'std_test_precision_macro',\n 'std_test_precision_micro',\n 'std_test_precision_weighted',\n 'std_test_recall_macro',\n 'std_test_recall_micro',\n 'std_test_recall_weighted']"
     },
     "metadata": {},
     "execution_count": 19
    }
   ],
   "source": [
    "from sklearn.model_selection import GridSearchCV\n",
    "from sklearn.ensemble import RandomForestClassifier\n",
    "\n",
    "clf = GridSearchCV(estimator=RandomForestClassifier(), cv=10, param_grid={'n_estimators' : [50, 100, 200, 300], 'criterion' : ('gini', 'entropy'), 'max_features' : ('log2', 'sqrt', 'auto', None, 1), 'oob_score' : (True, False), 'bootstrap' : (True, False)}, scoring=['accuracy','f1_micro','f1_macro','f1_weighted','precision_micro','precision_macro','precision_weighted', 'recall_micro','recall_macro','recall_weighted'], n_jobs=8, refit=False)\n",
    "clf.fit(X, y)\n",
    "sorted(clf.cv_results_.keys())"
   ]
  },
  {
   "cell_type": "code",
   "execution_count": 23,
   "metadata": {},
   "outputs": [],
   "source": [
    "a = pd.DataFrame(clf.cv_results_)\n"
   ]
  },
  {
   "cell_type": "code",
   "execution_count": 24,
   "metadata": {},
   "outputs": [],
   "source": [
    "a.to_csv(\"test.csv\")"
   ]
  },
  {
   "cell_type": "code",
   "execution_count": null,
   "metadata": {},
   "outputs": [],
   "source": []
  }
 ],
 "metadata": {
  "language_info": {
   "codemirror_mode": {
    "name": "ipython",
    "version": 3
   },
   "file_extension": ".py",
   "mimetype": "text/x-python",
   "name": "python",
   "nbconvert_exporter": "python",
   "pygments_lexer": "ipython3",
   "version": "3.7.4-final"
  },
  "orig_nbformat": 2,
  "kernelspec": {
   "name": "python37432bit103d47cae710476aaf7b4039d74de5c0",
   "display_name": "Python 3.7.4 32-bit"
  }
 },
 "nbformat": 4,
 "nbformat_minor": 2
}